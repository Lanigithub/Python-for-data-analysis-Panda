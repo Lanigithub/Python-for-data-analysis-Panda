{
 "cells": [
  {
   "cell_type": "markdown",
   "metadata": {},
   "source": [
    "### DataFrame 3"
   ]
  },
  {
   "cell_type": "markdown",
   "metadata": {},
   "source": [
    "#  MultiIndex and Index Hierarchy\n",
    "###  DataFrame with MultiIndex of diferent levels\n",
    "### zip()\n",
    "### interator\n",
    "#### Advanced indexing: https://pandas.pydata.org/pandas-docs/stable/user_guide/advanced.html\n",
    "### DataFrame.xs(key, axis=0, level=None, drop_level=True)[source]\n",
    "#### Return cross-section from the Series/DataFrame.\n",
    "\n",
    "##### This method takes a key argument to select data at a particular level of a MultiIndex"
   ]
  },
  {
   "cell_type": "code",
   "execution_count": null,
   "metadata": {},
   "outputs": [],
   "source": [
    "# pandas.MultiIndex(levels=None, codes=None, sortorder=None, names=None, dtype=None,\n",
    "# copy=False, name=None, verify_integrity=True)\n",
    "# parameter:\n",
    "# levels: sequence of arrays\n",
    "# The unique labels for each level.\n",
    "\n",
    "## codes: sequence of arrays\n",
    "# Integers for each level designating which label at each location.\n",
    "\n",
    "## sortorder: optional int\n",
    "# Level of sortedness (must be lexicographically sorted by that level).\n",
    "\n",
    "## names:optional sequence of objects\n",
    "# Names for each of the index levels. (name is accepted for compat).\n",
    "\n",
    "## copy:  bool, default False\n",
    "# Copy the meta-data.\n",
    "\n",
    "## verify_integrity bool, default True\n",
    "# Check that the levels/codes are consistent and valid."
   ]
  },
  {
   "cell_type": "code",
   "execution_count": null,
   "metadata": {},
   "outputs": [],
   "source": [
    "##  A MultiIndex can be created from a list of arrays (using MultiIndex.from_arrays()),\n",
    "# an array of tuples (using MultiIndex.from_tuples()), a crossed set of iterables (using MultiIndex.from_product()), \n",
    "# or a DataFrame (using MultiIndex.from_frame()). The Index constructor will attempt to return a MultiIndex \n",
    "# when it is passed a list of tuples."
   ]
  },
  {
   "cell_type": "code",
   "execution_count": 17,
   "metadata": {},
   "outputs": [],
   "source": [
    "import numpy as np\n",
    "import pandas as pd\n",
    "from numpy.random import randn"
   ]
  },
  {
   "cell_type": "code",
   "execution_count": 34,
   "metadata": {},
   "outputs": [],
   "source": [
    "# Example of MultiInsex.from_tuples(list(zip([],[])))\n",
    "HierIndex=pd.MultiIndex.from_tuples(list(zip(['A','A','B','B','C','C'],['1','1','2','2','3','3'])))"
   ]
  },
  {
   "cell_type": "code",
   "execution_count": 36,
   "metadata": {},
   "outputs": [
    {
     "data": {
      "text/html": [
       "<div>\n",
       "<style scoped>\n",
       "    .dataframe tbody tr th:only-of-type {\n",
       "        vertical-align: middle;\n",
       "    }\n",
       "\n",
       "    .dataframe tbody tr th {\n",
       "        vertical-align: top;\n",
       "    }\n",
       "\n",
       "    .dataframe thead th {\n",
       "        text-align: right;\n",
       "    }\n",
       "</style>\n",
       "<table border=\"1\" class=\"dataframe\">\n",
       "  <thead>\n",
       "    <tr style=\"text-align: right;\">\n",
       "      <th></th>\n",
       "      <th></th>\n",
       "      <th>M</th>\n",
       "      <th>N</th>\n",
       "    </tr>\n",
       "  </thead>\n",
       "  <tbody>\n",
       "    <tr>\n",
       "      <th rowspan=\"2\" valign=\"top\">A</th>\n",
       "      <th>1</th>\n",
       "      <td>-0.894136</td>\n",
       "      <td>-1.284464</td>\n",
       "    </tr>\n",
       "    <tr>\n",
       "      <th>1</th>\n",
       "      <td>-0.689024</td>\n",
       "      <td>0.310843</td>\n",
       "    </tr>\n",
       "    <tr>\n",
       "      <th rowspan=\"2\" valign=\"top\">B</th>\n",
       "      <th>2</th>\n",
       "      <td>-0.023584</td>\n",
       "      <td>-0.254688</td>\n",
       "    </tr>\n",
       "    <tr>\n",
       "      <th>2</th>\n",
       "      <td>-1.070360</td>\n",
       "      <td>-0.252318</td>\n",
       "    </tr>\n",
       "    <tr>\n",
       "      <th rowspan=\"2\" valign=\"top\">C</th>\n",
       "      <th>3</th>\n",
       "      <td>0.317183</td>\n",
       "      <td>0.153631</td>\n",
       "    </tr>\n",
       "    <tr>\n",
       "      <th>3</th>\n",
       "      <td>-0.401902</td>\n",
       "      <td>0.446829</td>\n",
       "    </tr>\n",
       "  </tbody>\n",
       "</table>\n",
       "</div>"
      ],
      "text/plain": [
       "            M         N\n",
       "A 1 -0.894136 -1.284464\n",
       "  1 -0.689024  0.310843\n",
       "B 2 -0.023584 -0.254688\n",
       "  2 -1.070360 -0.252318\n",
       "C 3  0.317183  0.153631\n",
       "  3 -0.401902  0.446829"
      ]
     },
     "execution_count": 36,
     "metadata": {},
     "output_type": "execute_result"
    }
   ],
   "source": [
    "# Create a dataframe with data =np.rand(3,4), index=HierIndex, column=['M''W]\n",
    "df=pd.DataFrame(randn(6,2),HierIndex, ['M','N'])\n",
    "df"
   ]
  },
  {
   "cell_type": "code",
   "execution_count": 27,
   "metadata": {},
   "outputs": [
    {
     "data": {
      "text/plain": [
       "MultiIndex(levels=[['A', 'B', 'C', 'D'], ['One', 'Two']],\n",
       "           labels=[[0, 0, 1, 1, 2, 2, 3, 3], [0, 1, 0, 1, 0, 1, 0, 1]])"
      ]
     },
     "execution_count": 27,
     "metadata": {},
     "output_type": "execute_result"
    }
   ],
   "source": [
    "# Create HierIndex from pd.MultiInsex.from_product(iterators)\n",
    "##function product()\n",
    "iterators=[['A','B','C','D'],['One','Two']]  # \n",
    "HierIndex1 =pd.MultiIndex.from_product(iterators)\n",
    "HierIndex1\n"
   ]
  },
  {
   "cell_type": "code",
   "execution_count": 33,
   "metadata": {},
   "outputs": [
    {
     "data": {
      "text/html": [
       "<div>\n",
       "<style scoped>\n",
       "    .dataframe tbody tr th:only-of-type {\n",
       "        vertical-align: middle;\n",
       "    }\n",
       "\n",
       "    .dataframe tbody tr th {\n",
       "        vertical-align: top;\n",
       "    }\n",
       "\n",
       "    .dataframe thead th {\n",
       "        text-align: right;\n",
       "    }\n",
       "</style>\n",
       "<table border=\"1\" class=\"dataframe\">\n",
       "  <thead>\n",
       "    <tr style=\"text-align: right;\">\n",
       "      <th></th>\n",
       "      <th></th>\n",
       "      <th>J</th>\n",
       "      <th>K</th>\n",
       "      <th>X</th>\n",
       "      <th>Y</th>\n",
       "    </tr>\n",
       "  </thead>\n",
       "  <tbody>\n",
       "    <tr>\n",
       "      <th rowspan=\"2\" valign=\"top\">A</th>\n",
       "      <th>One</th>\n",
       "      <td>-0.854119</td>\n",
       "      <td>-0.643539</td>\n",
       "      <td>0.882321</td>\n",
       "      <td>-0.637963</td>\n",
       "    </tr>\n",
       "    <tr>\n",
       "      <th>Two</th>\n",
       "      <td>-1.403093</td>\n",
       "      <td>0.821088</td>\n",
       "      <td>-1.144280</td>\n",
       "      <td>-1.441128</td>\n",
       "    </tr>\n",
       "    <tr>\n",
       "      <th rowspan=\"2\" valign=\"top\">B</th>\n",
       "      <th>One</th>\n",
       "      <td>-0.337407</td>\n",
       "      <td>-1.925784</td>\n",
       "      <td>-1.410602</td>\n",
       "      <td>0.611076</td>\n",
       "    </tr>\n",
       "    <tr>\n",
       "      <th>Two</th>\n",
       "      <td>0.475467</td>\n",
       "      <td>0.215999</td>\n",
       "      <td>-1.256075</td>\n",
       "      <td>-0.521937</td>\n",
       "    </tr>\n",
       "    <tr>\n",
       "      <th rowspan=\"2\" valign=\"top\">C</th>\n",
       "      <th>One</th>\n",
       "      <td>-0.788597</td>\n",
       "      <td>-1.450888</td>\n",
       "      <td>0.133552</td>\n",
       "      <td>-0.338144</td>\n",
       "    </tr>\n",
       "    <tr>\n",
       "      <th>Two</th>\n",
       "      <td>-0.452139</td>\n",
       "      <td>-0.544746</td>\n",
       "      <td>1.113187</td>\n",
       "      <td>0.150537</td>\n",
       "    </tr>\n",
       "    <tr>\n",
       "      <th rowspan=\"2\" valign=\"top\">D</th>\n",
       "      <th>One</th>\n",
       "      <td>-0.691395</td>\n",
       "      <td>-0.638808</td>\n",
       "      <td>-0.543083</td>\n",
       "      <td>-0.460715</td>\n",
       "    </tr>\n",
       "    <tr>\n",
       "      <th>Two</th>\n",
       "      <td>0.257000</td>\n",
       "      <td>-0.058982</td>\n",
       "      <td>2.569763</td>\n",
       "      <td>2.076613</td>\n",
       "    </tr>\n",
       "  </tbody>\n",
       "</table>\n",
       "</div>"
      ],
      "text/plain": [
       "              J         K         X         Y\n",
       "A One -0.854119 -0.643539  0.882321 -0.637963\n",
       "  Two -1.403093  0.821088 -1.144280 -1.441128\n",
       "B One -0.337407 -1.925784 -1.410602  0.611076\n",
       "  Two  0.475467  0.215999 -1.256075 -0.521937\n",
       "C One -0.788597 -1.450888  0.133552 -0.338144\n",
       "  Two -0.452139 -0.544746  1.113187  0.150537\n",
       "D One -0.691395 -0.638808 -0.543083 -0.460715\n",
       "  Two  0.257000 -0.058982  2.569763  2.076613"
      ]
     },
     "execution_count": 33,
     "metadata": {},
     "output_type": "execute_result"
    }
   ],
   "source": [
    "# Create df=pd.DataFrame(randn(8,4),HierIndex1, ['J K X Y'].split())\n",
    "df=pd.DataFrame(randn(8,4),HierIndex1, 'J K X Y'.split())\n",
    "df"
   ]
  },
  {
   "cell_type": "code",
   "execution_count": 38,
   "metadata": {},
   "outputs": [
    {
     "data": {
      "text/plain": [
       "MultiIndex(levels=[['bar', 'baz', 'foo', 'qux'], ['one', 'two']],\n",
       "           labels=[[0, 0, 1, 1, 2, 2, 3, 3], [0, 1, 0, 1, 0, 1, 0, 1]],\n",
       "           names=['first', 'second'])"
      ]
     },
     "execution_count": 38,
     "metadata": {},
     "output_type": "execute_result"
    }
   ],
   "source": [
    "# More on pd.MultiInsex.from_prodct(iterators) When you want every pairing of the elements in two iterables, \n",
    "# it can be easier to use the MultiIndex.from_product() method:\n",
    "\n",
    "iterables = [[\"bar\", \"baz\", \"foo\", \"qux\"], [\"one\", \"two\"]]\n",
    "HierIndex2=pd.MultiIndex.from_product(iterables, names=[\"first\", \"second\"])\n",
    "HierIndex2"
   ]
  },
  {
   "cell_type": "code",
   "execution_count": null,
   "metadata": {},
   "outputs": [],
   "source": [
    "# #MultiIndex([('bar', 'one'),\n",
    " #           ('bar', 'two'),\n",
    " #          ('baz', 'one'),\n",
    " #           ('baz', 'two'),\n",
    " #           ('foo', 'one'),\n",
    " #           ('foo', 'two'),\n",
    " #           ('qux', 'one'),\n",
    "#            ('qux', 'two')],\n",
    "#           names=['first', 'second'])"
   ]
  },
  {
   "cell_type": "code",
   "execution_count": 42,
   "metadata": {},
   "outputs": [
    {
     "data": {
      "text/html": [
       "<div>\n",
       "<style scoped>\n",
       "    .dataframe tbody tr th:only-of-type {\n",
       "        vertical-align: middle;\n",
       "    }\n",
       "\n",
       "    .dataframe tbody tr th {\n",
       "        vertical-align: top;\n",
       "    }\n",
       "\n",
       "    .dataframe thead th {\n",
       "        text-align: right;\n",
       "    }\n",
       "</style>\n",
       "<table border=\"1\" class=\"dataframe\">\n",
       "  <thead>\n",
       "    <tr style=\"text-align: right;\">\n",
       "      <th></th>\n",
       "      <th></th>\n",
       "      <th>A</th>\n",
       "      <th>B</th>\n",
       "      <th>C</th>\n",
       "      <th>D</th>\n",
       "    </tr>\n",
       "    <tr>\n",
       "      <th>first</th>\n",
       "      <th>second</th>\n",
       "      <th></th>\n",
       "      <th></th>\n",
       "      <th></th>\n",
       "      <th></th>\n",
       "    </tr>\n",
       "  </thead>\n",
       "  <tbody>\n",
       "    <tr>\n",
       "      <th rowspan=\"2\" valign=\"top\">bar</th>\n",
       "      <th>one</th>\n",
       "      <td>-0.915338</td>\n",
       "      <td>-0.423485</td>\n",
       "      <td>0.288193</td>\n",
       "      <td>2.169872</td>\n",
       "    </tr>\n",
       "    <tr>\n",
       "      <th>two</th>\n",
       "      <td>0.659070</td>\n",
       "      <td>0.717555</td>\n",
       "      <td>-1.459106</td>\n",
       "      <td>0.429901</td>\n",
       "    </tr>\n",
       "    <tr>\n",
       "      <th rowspan=\"2\" valign=\"top\">baz</th>\n",
       "      <th>one</th>\n",
       "      <td>0.558484</td>\n",
       "      <td>1.972605</td>\n",
       "      <td>-0.443358</td>\n",
       "      <td>-0.797942</td>\n",
       "    </tr>\n",
       "    <tr>\n",
       "      <th>two</th>\n",
       "      <td>0.416946</td>\n",
       "      <td>-0.380780</td>\n",
       "      <td>0.633780</td>\n",
       "      <td>1.360477</td>\n",
       "    </tr>\n",
       "    <tr>\n",
       "      <th rowspan=\"2\" valign=\"top\">foo</th>\n",
       "      <th>one</th>\n",
       "      <td>-0.390524</td>\n",
       "      <td>-0.370751</td>\n",
       "      <td>2.184717</td>\n",
       "      <td>-2.245806</td>\n",
       "    </tr>\n",
       "    <tr>\n",
       "      <th>two</th>\n",
       "      <td>-0.508012</td>\n",
       "      <td>0.454376</td>\n",
       "      <td>-0.219366</td>\n",
       "      <td>0.729839</td>\n",
       "    </tr>\n",
       "    <tr>\n",
       "      <th rowspan=\"2\" valign=\"top\">qux</th>\n",
       "      <th>one</th>\n",
       "      <td>0.248769</td>\n",
       "      <td>0.449632</td>\n",
       "      <td>-0.301630</td>\n",
       "      <td>-2.323359</td>\n",
       "    </tr>\n",
       "    <tr>\n",
       "      <th>two</th>\n",
       "      <td>-0.593802</td>\n",
       "      <td>1.827382</td>\n",
       "      <td>0.341786</td>\n",
       "      <td>0.106939</td>\n",
       "    </tr>\n",
       "  </tbody>\n",
       "</table>\n",
       "</div>"
      ],
      "text/plain": [
       "                     A         B         C         D\n",
       "first second                                        \n",
       "bar   one    -0.915338 -0.423485  0.288193  2.169872\n",
       "      two     0.659070  0.717555 -1.459106  0.429901\n",
       "baz   one     0.558484  1.972605 -0.443358 -0.797942\n",
       "      two     0.416946 -0.380780  0.633780  1.360477\n",
       "foo   one    -0.390524 -0.370751  2.184717 -2.245806\n",
       "      two    -0.508012  0.454376 -0.219366  0.729839\n",
       "qux   one     0.248769  0.449632 -0.301630 -2.323359\n",
       "      two    -0.593802  1.827382  0.341786  0.106939"
      ]
     },
     "execution_count": 42,
     "metadata": {},
     "output_type": "execute_result"
    }
   ],
   "source": [
    "df=pd.DataFrame(randn(8,4),HierIndex2,'A B C D'.split())\n",
    "df"
   ]
  },
  {
   "cell_type": "code",
   "execution_count": 43,
   "metadata": {},
   "outputs": [
    {
     "data": {
      "text/html": [
       "<div>\n",
       "<style scoped>\n",
       "    .dataframe tbody tr th:only-of-type {\n",
       "        vertical-align: middle;\n",
       "    }\n",
       "\n",
       "    .dataframe tbody tr th {\n",
       "        vertical-align: top;\n",
       "    }\n",
       "\n",
       "    .dataframe thead th {\n",
       "        text-align: right;\n",
       "    }\n",
       "</style>\n",
       "<table border=\"1\" class=\"dataframe\">\n",
       "  <thead>\n",
       "    <tr style=\"text-align: right;\">\n",
       "      <th></th>\n",
       "      <th>A</th>\n",
       "      <th>B</th>\n",
       "      <th>C</th>\n",
       "      <th>D</th>\n",
       "    </tr>\n",
       "    <tr>\n",
       "      <th>second</th>\n",
       "      <th></th>\n",
       "      <th></th>\n",
       "      <th></th>\n",
       "      <th></th>\n",
       "    </tr>\n",
       "  </thead>\n",
       "  <tbody>\n",
       "    <tr>\n",
       "      <th>one</th>\n",
       "      <td>-0.915338</td>\n",
       "      <td>-0.423485</td>\n",
       "      <td>0.288193</td>\n",
       "      <td>2.169872</td>\n",
       "    </tr>\n",
       "    <tr>\n",
       "      <th>two</th>\n",
       "      <td>0.659070</td>\n",
       "      <td>0.717555</td>\n",
       "      <td>-1.459106</td>\n",
       "      <td>0.429901</td>\n",
       "    </tr>\n",
       "  </tbody>\n",
       "</table>\n",
       "</div>"
      ],
      "text/plain": [
       "               A         B         C         D\n",
       "second                                        \n",
       "one    -0.915338 -0.423485  0.288193  2.169872\n",
       "two     0.659070  0.717555 -1.459106  0.429901"
      ]
     },
     "execution_count": 43,
     "metadata": {},
     "output_type": "execute_result"
    }
   ],
   "source": [
    "## adccesing the values using loc\n",
    "df.loc['bar']"
   ]
  },
  {
   "cell_type": "code",
   "execution_count": 47,
   "metadata": {},
   "outputs": [
    {
     "data": {
      "text/plain": [
       "A   -0.390524\n",
       "B   -0.370751\n",
       "C    2.184717\n",
       "D   -2.245806\n",
       "Name: one, dtype: float64"
      ]
     },
     "execution_count": 47,
     "metadata": {},
     "output_type": "execute_result"
    }
   ],
   "source": [
    "df.loc['foo'].loc['one'] # get the value from the subset of subset of the dfdf.loc[].loc[].loc[]"
   ]
  },
  {
   "cell_type": "code",
   "execution_count": 48,
   "metadata": {},
   "outputs": [
    {
     "data": {
      "text/plain": [
       "first  second\n",
       "bar    one      -0.915338\n",
       "       two       0.659070\n",
       "baz    one       0.558484\n",
       "       two       0.416946\n",
       "foo    one      -0.390524\n",
       "       two      -0.508012\n",
       "qux    one       0.248769\n",
       "       two      -0.593802\n",
       "Name: A, dtype: float64"
      ]
     },
     "execution_count": 48,
     "metadata": {},
     "output_type": "execute_result"
    }
   ],
   "source": [
    "df[\"A\"]"
   ]
  },
  {
   "cell_type": "code",
   "execution_count": 51,
   "metadata": {},
   "outputs": [
    {
     "data": {
      "text/plain": [
       "first  second\n",
       "bar    one      -0.423485\n",
       "       two       0.717555\n",
       "baz    one       1.972605\n",
       "       two      -0.380780\n",
       "Name: B, dtype: float64"
      ]
     },
     "execution_count": 51,
     "metadata": {},
     "output_type": "execute_result"
    }
   ],
   "source": [
    "df.iloc[0:4,1] # access the values slicing from first to 4th row of the first index and the 2nd column"
   ]
  },
  {
   "cell_type": "code",
   "execution_count": 60,
   "metadata": {},
   "outputs": [
    {
     "data": {
      "text/html": [
       "<div>\n",
       "<style scoped>\n",
       "    .dataframe tbody tr th:only-of-type {\n",
       "        vertical-align: middle;\n",
       "    }\n",
       "\n",
       "    .dataframe tbody tr th {\n",
       "        vertical-align: top;\n",
       "    }\n",
       "\n",
       "    .dataframe thead th {\n",
       "        text-align: right;\n",
       "    }\n",
       "</style>\n",
       "<table border=\"1\" class=\"dataframe\">\n",
       "  <thead>\n",
       "    <tr style=\"text-align: right;\">\n",
       "      <th></th>\n",
       "      <th>A</th>\n",
       "      <th>B</th>\n",
       "      <th>C</th>\n",
       "      <th>D</th>\n",
       "    </tr>\n",
       "    <tr>\n",
       "      <th>second</th>\n",
       "      <th></th>\n",
       "      <th></th>\n",
       "      <th></th>\n",
       "      <th></th>\n",
       "    </tr>\n",
       "  </thead>\n",
       "  <tbody>\n",
       "    <tr>\n",
       "      <th>one</th>\n",
       "      <td>-0.915338</td>\n",
       "      <td>-0.423485</td>\n",
       "      <td>0.288193</td>\n",
       "      <td>2.169872</td>\n",
       "    </tr>\n",
       "    <tr>\n",
       "      <th>two</th>\n",
       "      <td>0.659070</td>\n",
       "      <td>0.717555</td>\n",
       "      <td>-1.459106</td>\n",
       "      <td>0.429901</td>\n",
       "    </tr>\n",
       "  </tbody>\n",
       "</table>\n",
       "</div>"
      ],
      "text/plain": [
       "               A         B         C         D\n",
       "second                                        \n",
       "one    -0.915338 -0.423485  0.288193  2.169872\n",
       "two     0.659070  0.717555 -1.459106  0.429901"
      ]
     },
     "execution_count": 60,
     "metadata": {},
     "output_type": "execute_result"
    }
   ],
   "source": [
    "## DataFrame.xs(key, axis=0, level=None, drop_level=True)\n",
    "df.xs('bar')"
   ]
  },
  {
   "cell_type": "code",
   "execution_count": 57,
   "metadata": {},
   "outputs": [
    {
     "data": {
      "text/html": [
       "<div>\n",
       "<style scoped>\n",
       "    .dataframe tbody tr th:only-of-type {\n",
       "        vertical-align: middle;\n",
       "    }\n",
       "\n",
       "    .dataframe tbody tr th {\n",
       "        vertical-align: top;\n",
       "    }\n",
       "\n",
       "    .dataframe thead th {\n",
       "        text-align: right;\n",
       "    }\n",
       "</style>\n",
       "<table border=\"1\" class=\"dataframe\">\n",
       "  <thead>\n",
       "    <tr style=\"text-align: right;\">\n",
       "      <th></th>\n",
       "      <th>A</th>\n",
       "      <th>B</th>\n",
       "      <th>C</th>\n",
       "      <th>D</th>\n",
       "    </tr>\n",
       "    <tr>\n",
       "      <th>first</th>\n",
       "      <th></th>\n",
       "      <th></th>\n",
       "      <th></th>\n",
       "      <th></th>\n",
       "    </tr>\n",
       "  </thead>\n",
       "  <tbody>\n",
       "    <tr>\n",
       "      <th>bar</th>\n",
       "      <td>-0.915338</td>\n",
       "      <td>-0.423485</td>\n",
       "      <td>0.288193</td>\n",
       "      <td>2.169872</td>\n",
       "    </tr>\n",
       "    <tr>\n",
       "      <th>baz</th>\n",
       "      <td>0.558484</td>\n",
       "      <td>1.972605</td>\n",
       "      <td>-0.443358</td>\n",
       "      <td>-0.797942</td>\n",
       "    </tr>\n",
       "    <tr>\n",
       "      <th>foo</th>\n",
       "      <td>-0.390524</td>\n",
       "      <td>-0.370751</td>\n",
       "      <td>2.184717</td>\n",
       "      <td>-2.245806</td>\n",
       "    </tr>\n",
       "    <tr>\n",
       "      <th>qux</th>\n",
       "      <td>0.248769</td>\n",
       "      <td>0.449632</td>\n",
       "      <td>-0.301630</td>\n",
       "      <td>-2.323359</td>\n",
       "    </tr>\n",
       "  </tbody>\n",
       "</table>\n",
       "</div>"
      ],
      "text/plain": [
       "              A         B         C         D\n",
       "first                                        \n",
       "bar   -0.915338 -0.423485  0.288193  2.169872\n",
       "baz    0.558484  1.972605 -0.443358 -0.797942\n",
       "foo   -0.390524 -0.370751  2.184717 -2.245806\n",
       "qux    0.248769  0.449632 -0.301630 -2.323359"
      ]
     },
     "execution_count": 57,
     "metadata": {},
     "output_type": "execute_result"
    }
   ],
   "source": [
    "df.xs('one',level=1)"
   ]
  },
  {
   "cell_type": "code",
   "execution_count": 62,
   "metadata": {},
   "outputs": [
    {
     "data": {
      "text/plain": [
       "A    0.558484\n",
       "B    1.972605\n",
       "C   -0.443358\n",
       "D   -0.797942\n",
       "Name: one, dtype: float64"
      ]
     },
     "execution_count": 62,
     "metadata": {},
     "output_type": "execute_result"
    }
   ],
   "source": [
    "df.xs('baz').loc['one']"
   ]
  },
  {
   "cell_type": "code",
   "execution_count": 63,
   "metadata": {},
   "outputs": [],
   "source": [
    "# more on df.xs(): https://pandas.pydata.org/pandas-docs/stable/reference/api/pandas.DataFrame.xs.html"
   ]
  },
  {
   "cell_type": "code",
   "execution_count": null,
   "metadata": {},
   "outputs": [],
   "source": []
  }
 ],
 "metadata": {
  "kernelspec": {
   "display_name": "Python 3",
   "language": "python",
   "name": "python3"
  },
  "language_info": {
   "codemirror_mode": {
    "name": "ipython",
    "version": 3
   },
   "file_extension": ".py",
   "mimetype": "text/x-python",
   "name": "python",
   "nbconvert_exporter": "python",
   "pygments_lexer": "ipython3",
   "version": "3.7.1"
  }
 },
 "nbformat": 4,
 "nbformat_minor": 2
}
